{
 "cells": [
  {
   "cell_type": "code",
   "execution_count": null,
   "id": "141131b7",
   "metadata": {},
   "outputs": [],
   "source": [
    "# Ask the user four bits of input: Do you want to : Show/Add/Delete or Quit?"
   ]
  },
  {
   "cell_type": "code",
   "execution_count": 23,
   "id": "98c28358",
   "metadata": {},
   "outputs": [
    {
     "name": "stdout",
     "output_type": "stream",
     "text": [
      "What would you like to do? \n",
      "You can: Add Delete Show Quitquit\n"
     ]
    },
    {
     "ename": "SyntaxError",
     "evalue": "'break' outside loop (334247694.py, line 19)",
     "output_type": "error",
     "traceback": [
      "\u001b[1;36m  Input \u001b[1;32mIn [23]\u001b[1;36m\u001b[0m\n\u001b[1;33m    break\u001b[0m\n\u001b[1;37m    ^\u001b[0m\n\u001b[1;31mSyntaxError\u001b[0m\u001b[1;31m:\u001b[0m 'break' outside loop\n"
     ]
    }
   ],
   "source": [
    "from IPython.display import clear_output\n",
    "\n",
    "shopncart=[]\n",
    "def show_cart():\n",
    "    clear_output()\n",
    "    input(\"What is yor name: \")\n",
    "    print('Your cart contains: ')\n",
    "    for items in shopncart:\n",
    "        print(item)\n",
    "    if shopncart==0:\n",
    "        print('you cart is empty')\n",
    "\n",
    "\n",
    "        \n",
    "response=input(\"What would you like to do? \" + \"\\nYou can: Add Delete Show Quit\")\n",
    "if response.lower().strip()=='Quit':\n",
    "    show_cart()\n",
    "    print(\"Thank You for Shopn\")\n",
    "    break\n",
    "elif response.lower().strip() == 'Add':\n",
    "    item= input(\"What items would you like to add? \")\n",
    "    add_item(item)\n",
    "elif response.lower().strip() == 'Delete:':\n",
    "    item=input(\"What items would you like to remove? \") \n",
    "    remove_item(item)\n",
    "elif response.lower().strip()=='Show':\n",
    "    show_cart()\n",
    "            \n",
    "show_cart()\n"
   ]
  },
  {
   "cell_type": "code",
   "execution_count": null,
   "id": "99a554e3",
   "metadata": {},
   "outputs": [],
   "source": [
    "# 2) Create a Module in VS Code and Import It into jupyter notebook\n",
    "\n",
    "Module should have the following capabilities:\n",
    "\n",
    "1) Has a function to calculate the square footage of a house\n",
    "Reminder of Formula: Length X Width == Area\n",
    "2) Has a function to calculate the circumference of a circle\n",
    "\n",
    "Program in Jupyter Notebook should take in user input and use imported functions \n",
    "to calculate a circle's circumference or a houses square footage "
   ]
  },
  {
   "cell_type": "code",
   "execution_count": 25,
   "id": "08b8c421",
   "metadata": {
    "scrolled": true
   },
   "outputs": [
    {
     "ename": "SyntaxError",
     "evalue": "invalid syntax (2112077142.py, line 2)",
     "output_type": "error",
     "traceback": [
      "\u001b[1;36m  Input \u001b[1;32mIn [25]\u001b[1;36m\u001b[0m\n\u001b[1;33m    def length(input=(\"What is length of house: \"))\u001b[0m\n\u001b[1;37m                                                   ^\u001b[0m\n\u001b[1;31mSyntaxError\u001b[0m\u001b[1;31m:\u001b[0m invalid syntax\n"
     ]
    }
   ],
   "source": [
    "def house():\n",
    "    def length(input=(\"What is length of house: \"))\n",
    "    def width(input=(\"What is width of house: \"))\n",
    "    \n",
    "    def housarea():\n",
    "        return length*width"
   ]
  },
  {
   "cell_type": "code",
   "execution_count": null,
   "id": "cdf19e61",
   "metadata": {},
   "outputs": [],
   "source": [
    "\"\"\"\n",
    "I'm sorry, I've spent an incredibly draining amount of time on these two\n",
    "problems and at this point I need to get some rest.\n",
    "This is what I've come up with so far \n",
    "I will return to these problems and finish them\"\"\" "
   ]
  }
 ],
 "metadata": {
  "kernelspec": {
   "display_name": "Python 3 (ipykernel)",
   "language": "python",
   "name": "python3"
  },
  "language_info": {
   "codemirror_mode": {
    "name": "ipython",
    "version": 3
   },
   "file_extension": ".py",
   "mimetype": "text/x-python",
   "name": "python",
   "nbconvert_exporter": "python",
   "pygments_lexer": "ipython3",
   "version": "3.9.12"
  }
 },
 "nbformat": 4,
 "nbformat_minor": 5
}
